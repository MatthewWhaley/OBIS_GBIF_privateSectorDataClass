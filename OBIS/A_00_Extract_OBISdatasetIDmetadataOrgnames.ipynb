{
 "cells": [
  {
   "cell_type": "code",
   "execution_count": 1,
   "id": "df515c2a-bac0-4d92-852c-6ff4e407cb24",
   "metadata": {},
   "outputs": [],
   "source": [
    "import requests\n",
    "from bs4 import BeautifulSoup\n",
    "import pandas as pd\n"
   ]
  },
  {
   "cell_type": "markdown",
   "id": "b51d06f3-cb45-4a54-a71b-7f9e52a9dcd3",
   "metadata": {},
   "source": [
    "### GET full list of dataset IDs from OBIS API"
   ]
  },
  {
   "cell_type": "code",
   "execution_count": 2,
   "id": "501629af-f071-43b4-a22a-787a50574e58",
   "metadata": {},
   "outputs": [],
   "source": [
    "# Define the URL\n",
    "url = \"https://api.obis.org/dataset/search?offset=0&limit=100000&q=\"\n",
    "\n",
    "# Make the GET request\n",
    "response = requests.get(url)\n",
    "\n",
    "# Check the status of the response\n",
    "if response.status_code == 200:\n",
    "    data = response.json()\n",
    "#    print(data)\n",
    "else:\n",
    "    print(f\"Failed to retrieve data: {response.status_code}\")\n"
   ]
  },
  {
   "cell_type": "code",
   "execution_count": 3,
   "id": "06ffc0b4-666e-4fae-8959-403a8a2bf92a",
   "metadata": {},
   "outputs": [
    {
     "data": {
      "text/plain": [
       "'96041282-9386-4a8a-a564-fd753f1222b0'"
      ]
     },
     "execution_count": 3,
     "metadata": {},
     "output_type": "execute_result"
    }
   ],
   "source": [
    "data['results'][1]['id']"
   ]
  },
  {
   "cell_type": "code",
   "execution_count": 4,
   "id": "58e8f980-2edb-4320-b9fe-8774e878af90",
   "metadata": {},
   "outputs": [],
   "source": [
    "datasetids = [record['id'] for record in data['results']]\n"
   ]
  },
  {
   "cell_type": "code",
   "execution_count": 5,
   "id": "92b9d76f-2ff9-4d5d-98c2-57608e334810",
   "metadata": {},
   "outputs": [
    {
     "data": {
      "text/plain": [
       "5323"
      ]
     },
     "execution_count": 5,
     "metadata": {},
     "output_type": "execute_result"
    }
   ],
   "source": [
    "len(datasetids)"
   ]
  },
  {
   "cell_type": "code",
   "execution_count": 6,
   "id": "c5b3a5de-0fbd-48fb-b45f-1f987ec35e9d",
   "metadata": {},
   "outputs": [],
   "source": [
    "ids=datasetids\n",
    "#ids"
   ]
  },
  {
   "cell_type": "markdown",
   "id": "a65ac812-520c-411e-b554-283fdd8d6c06",
   "metadata": {},
   "source": [
    "### Use datasetids list as reference to lookup more information"
   ]
  },
  {
   "cell_type": "markdown",
   "id": "cb878eff-d4d0-4479-8d5a-87a4967a09cb",
   "metadata": {},
   "source": [
    "##### Step 1) Use Beautiful soup HTML scraping to extract the organizations listed under the \"DATA PROVIDERS\" sections AND any Organization Names listed as the \"Contacts\", e.g. for https://obis.org/dataset/e2c4a839-89b5-484f-a63c-df89c2f9f974 the Data Providers are: 'DNB' and 'GBIF Norway', Contact Orgs are: 'DNV','DNV','DNV','GBIF Norway','DNV'. The Contact Orgs are insurance for a situation where there are no Data Providers listed."
   ]
  },
  {
   "cell_type": "code",
   "execution_count": null,
   "id": "36392b67-bf59-4b67-a5dc-3a2e742b6003",
   "metadata": {},
   "outputs": [],
   "source": [
    "import time\n",
    "import csv\n",
    "from requests.adapters import HTTPAdapter\n",
    "from requests.packages.urllib3.util.retry import Retry"
   ]
  },
  {
   "cell_type": "code",
   "execution_count": null,
   "id": "21d10a4e-10de-499b-bd51-8a18af349fdc",
   "metadata": {},
   "outputs": [],
   "source": [
    "# Function to extract data providers and contact organizations\n",
    "def get_data_providers_and_contacts(dataset_id):\n",
    "    url = f\"https://obis.org/dataset/{dataset_id}\"\n",
    "    \n",
    "    # Retry strategy\n",
    "    retry_strategy = Retry(\n",
    "        total=3,  # Number of retries\n",
    "        backoff_factor=1,  # Wait 1, 2, 4, etc. seconds between retries\n",
    "        status_forcelist=[429, 500, 502, 503, 504],  # Retry on these status codes\n",
    "        allowed_methods=[\"HEAD\", \"GET\", \"OPTIONS\"]  # Use allowed_methods instead of method_whitelist\n",
    "    )\n",
    "    adapter = HTTPAdapter(max_retries=retry_strategy)\n",
    "    http = requests.Session()\n",
    "    http.mount(\"https://\", adapter)\n",
    "    http.mount(\"http://\", adapter)\n",
    "    \n",
    "    try:\n",
    "        response = http.get(url)\n",
    "        response.raise_for_status()\n",
    "    except requests.exceptions.RequestException as e:\n",
    "        print(f\"Request failed: {e}\")\n",
    "        return [], [], \"TIMEOUT\"\n",
    "\n",
    "    html_content = response.text\n",
    "    soup = BeautifulSoup(html_content, 'html.parser')\n",
    "    \n",
    "    # Extract data providers\n",
    "    data_providers_section = soup.find('h3', string='Data providers')\n",
    "    data_providers = []\n",
    "    if data_providers_section:\n",
    "        table = data_providers_section.find_next('table')\n",
    "        if table:\n",
    "            data_providers = [row.find('td').text for row in table.find_all('tr')[1:]]  # Skip the header row\n",
    "    \n",
    "    # Extract contact organizations\n",
    "    contact_orgs = []\n",
    "    contacts_section = soup.find('td', string='Contacts')\n",
    "    if contacts_section:\n",
    "        subtable = contacts_section.find_next('table', class_='subtable table-contacts')\n",
    "        if subtable:\n",
    "            contact_orgs = [span.text for span in subtable.find_all('span', class_='smaller')]\n",
    "    \n",
    "    return data_providers, contact_orgs, None"
   ]
  },
  {
   "cell_type": "markdown",
   "id": "1d3a5290-cfa2-4f8e-b58e-1dbb1b324ba5",
   "metadata": {},
   "source": [
    "##### Step 2) Use OBIS API again to the total number of occurences for that Dataset"
   ]
  },
  {
   "cell_type": "code",
   "execution_count": null,
   "id": "4486f45c-bd9b-454f-b21d-d018a39f8fd3",
   "metadata": {},
   "outputs": [],
   "source": [
    "# Function to get total occurrences\n",
    "def get_total_occurrences(dataset_id):\n",
    "    url = f\"https://api.obis.org/occurrence?after=-1&size=0&datasetid={dataset_id}\"\n",
    "    try:\n",
    "        response = requests.get(url)\n",
    "        response.raise_for_status()\n",
    "    except requests.exceptions.RequestException as e:\n",
    "        print(f\"Request failed: {e}\")\n",
    "        return \"TIMEOUT\"\n",
    "\n",
    "    data = response.json()\n",
    "    return data.get('total', 0)\n",
    "\n"
   ]
  },
  {
   "cell_type": "markdown",
   "id": "63acc1c1-b91c-410c-8877-c61229cf9c30",
   "metadata": {},
   "source": [
    "##### Step 3) Run Code. FYI - takes some time (partly to avoid too many requests per second)"
   ]
  },
  {
   "cell_type": "code",
   "execution_count": 10,
   "id": "00eacf63-aefd-496c-aa90-380f87caea43",
   "metadata": {},
   "outputs": [
    {
     "ename": "NameError",
     "evalue": "name 'ids' is not defined",
     "output_type": "error",
     "traceback": [
      "\u001b[0;31m---------------------------------------------------------------------------\u001b[0m",
      "\u001b[0;31mNameError\u001b[0m                                 Traceback (most recent call last)",
      "Cell \u001b[0;32mIn[10], line 3\u001b[0m\n\u001b[1;32m      1\u001b[0m \u001b[38;5;66;03m# Collect data with rate limiting and write to CSV in real-time\u001b[39;00m\n\u001b[1;32m      2\u001b[0m output_file \u001b[38;5;241m=\u001b[39m \u001b[38;5;124m'\u001b[39m\u001b[38;5;124mDataset_and_Org_classifications/OBIS_DatasetID_2_orgnames.csv\u001b[39m\u001b[38;5;124m'\u001b[39m\n\u001b[0;32m----> 3\u001b[0m total_requests \u001b[38;5;241m=\u001b[39m \u001b[38;5;28mlen\u001b[39m(\u001b[43mids\u001b[49m)\n",
      "\u001b[0;31mNameError\u001b[0m: name 'ids' is not defined"
     ]
    }
   ],
   "source": [
    "# Collect data with rate limiting and write to CSV in real-time\n",
    "output_file = 'Dataset_and_Org_classifications/OBIS_DatasetID_2_orgnames.csv'\n",
    "total_requests = len(ids)"
   ]
  },
  {
   "cell_type": "code",
   "execution_count": 22,
   "id": "c7b82297-f7d8-4927-b4eb-e32cc11f2a24",
   "metadata": {},
   "outputs": [
    {
     "name": "stdout",
     "output_type": "stream",
     "text": [
      "Processing dataset 5323/5323 (100.00%)\n",
      "Data collection complete.\n"
     ]
    }
   ],
   "source": [
    "# Write the header to the CSV file\n",
    "with open(output_file, mode='w', newline='') as file:\n",
    "    writer = csv.writer(file)\n",
    "    writer.writerow([\"dataset_id\", \"Data providers\", \"Contact Organizations\", \"Total Occurrences\"])\n",
    "\n",
    "for i, dataset_id in enumerate(ids):\n",
    "    providers, contact_orgs, timeout_flag = get_data_providers_and_contacts(dataset_id)\n",
    "    total_occurrences = get_total_occurrences(dataset_id) if not timeout_flag else \"TIMEOUT\"\n",
    "    \n",
    "    # Write the data to the CSV file\n",
    "    with open(output_file, mode='a', newline='') as file:\n",
    "        writer = csv.writer(file)\n",
    "        writer.writerow([\n",
    "            dataset_id,\n",
    "            providers if not timeout_flag else \"TIMEOUT\",\n",
    "            contact_orgs if not timeout_flag else \"TIMEOUT\",\n",
    "            total_occurrences\n",
    "        ])\n",
    "    \n",
    "    # Print progress message\n",
    "    print(f\"Processing dataset {i + 1}/{total_requests} ({(i + 1) / total_requests * 100:.2f}%)\", end='\\r')\n",
    "    \n",
    "    # Rate limiting\n",
    "    time.sleep(1)  # Adjust the sleep time as needed\n",
    "\n",
    "print(\"\\nData collection complete.\")\n"
   ]
  },
  {
   "cell_type": "code",
   "execution_count": 11,
   "id": "589425f8-46eb-4165-84eb-46567e9e1c52",
   "metadata": {},
   "outputs": [],
   "source": [
    "df_OBISorgInfo = pd.read_csv(output_file)"
   ]
  },
  {
   "cell_type": "code",
   "execution_count": 12,
   "id": "d4d681c5-1f2d-4b55-a31f-8793d525661f",
   "metadata": {},
   "outputs": [
    {
     "data": {
      "text/html": [
       "<div>\n",
       "<style scoped>\n",
       "    .dataframe tbody tr th:only-of-type {\n",
       "        vertical-align: middle;\n",
       "    }\n",
       "\n",
       "    .dataframe tbody tr th {\n",
       "        vertical-align: top;\n",
       "    }\n",
       "\n",
       "    .dataframe thead th {\n",
       "        text-align: right;\n",
       "    }\n",
       "</style>\n",
       "<table border=\"1\" class=\"dataframe\">\n",
       "  <thead>\n",
       "    <tr style=\"text-align: right;\">\n",
       "      <th></th>\n",
       "      <th>dataset_id</th>\n",
       "      <th>Data providers</th>\n",
       "      <th>Contact Organizations</th>\n",
       "      <th>Total Occurrences</th>\n",
       "    </tr>\n",
       "  </thead>\n",
       "  <tbody>\n",
       "    <tr>\n",
       "      <th>0</th>\n",
       "      <td>d6ae6af8-8eac-4fbd-9ce5-b49b1137351c</td>\n",
       "      <td>['University of Queensland']</td>\n",
       "      <td>['University of Queensland', 'University of Qu...</td>\n",
       "      <td>3665</td>\n",
       "    </tr>\n",
       "    <tr>\n",
       "      <th>1</th>\n",
       "      <td>96041282-9386-4a8a-a564-fd753f1222b0</td>\n",
       "      <td>['CSIRO National Collections and Marine Infras...</td>\n",
       "      <td>['CSIRO Environment', 'CSIRO Environment', 'CS...</td>\n",
       "      <td>19763</td>\n",
       "    </tr>\n",
       "    <tr>\n",
       "      <th>2</th>\n",
       "      <td>61dc18bb-e2ec-43a1-949c-120d58235b61</td>\n",
       "      <td>['The Australian National University', 'CSIRO ...</td>\n",
       "      <td>['Australian National University', 'Australian...</td>\n",
       "      <td>1960</td>\n",
       "    </tr>\n",
       "    <tr>\n",
       "      <th>3</th>\n",
       "      <td>0c7b3f51-33c8-494c-ab8a-c5bd28f40f87</td>\n",
       "      <td>['Delaware Museum of Nature and Science – Moll...</td>\n",
       "      <td>['Invert-E-Base Portal', 'Delaware Museum of N...</td>\n",
       "      <td>34280</td>\n",
       "    </tr>\n",
       "    <tr>\n",
       "      <th>4</th>\n",
       "      <td>8ea620e9-37d5-4ff6-9a02-0bc94356c2d5</td>\n",
       "      <td>['Invert-E-Base Portal', 'Malacology Collectio...</td>\n",
       "      <td>['Invert-E-Base Portal', 'Malacology Collectio...</td>\n",
       "      <td>164632</td>\n",
       "    </tr>\n",
       "    <tr>\n",
       "      <th>...</th>\n",
       "      <td>...</td>\n",
       "      <td>...</td>\n",
       "      <td>...</td>\n",
       "      <td>...</td>\n",
       "    </tr>\n",
       "    <tr>\n",
       "      <th>5318</th>\n",
       "      <td>75e2a2b6-f58f-4c43-aefd-878cee7865b1</td>\n",
       "      <td>['Australian Antarctic Division', 'Intergovern...</td>\n",
       "      <td>['Intergovernmental Oceanographic Commission o...</td>\n",
       "      <td>556</td>\n",
       "    </tr>\n",
       "    <tr>\n",
       "      <th>5319</th>\n",
       "      <td>cf494b72-7b4d-4ca6-bb90-6a96554dcd57</td>\n",
       "      <td>[]</td>\n",
       "      <td>[]</td>\n",
       "      <td>0</td>\n",
       "    </tr>\n",
       "    <tr>\n",
       "      <th>5320</th>\n",
       "      <td>424b6232-cb9a-489a-8894-30fd7b951d49</td>\n",
       "      <td>[]</td>\n",
       "      <td>[]</td>\n",
       "      <td>0</td>\n",
       "    </tr>\n",
       "    <tr>\n",
       "      <th>5321</th>\n",
       "      <td>ddf1a66a-6913-4653-9f3a-44072705ad64</td>\n",
       "      <td>[]</td>\n",
       "      <td>[]</td>\n",
       "      <td>0</td>\n",
       "    </tr>\n",
       "    <tr>\n",
       "      <th>5322</th>\n",
       "      <td>70afaab7-18ca-4b68-8346-03823eefb390</td>\n",
       "      <td>[]</td>\n",
       "      <td>[]</td>\n",
       "      <td>0</td>\n",
       "    </tr>\n",
       "  </tbody>\n",
       "</table>\n",
       "<p>5323 rows × 4 columns</p>\n",
       "</div>"
      ],
      "text/plain": [
       "                                dataset_id  \\\n",
       "0     d6ae6af8-8eac-4fbd-9ce5-b49b1137351c   \n",
       "1     96041282-9386-4a8a-a564-fd753f1222b0   \n",
       "2     61dc18bb-e2ec-43a1-949c-120d58235b61   \n",
       "3     0c7b3f51-33c8-494c-ab8a-c5bd28f40f87   \n",
       "4     8ea620e9-37d5-4ff6-9a02-0bc94356c2d5   \n",
       "...                                    ...   \n",
       "5318  75e2a2b6-f58f-4c43-aefd-878cee7865b1   \n",
       "5319  cf494b72-7b4d-4ca6-bb90-6a96554dcd57   \n",
       "5320  424b6232-cb9a-489a-8894-30fd7b951d49   \n",
       "5321  ddf1a66a-6913-4653-9f3a-44072705ad64   \n",
       "5322  70afaab7-18ca-4b68-8346-03823eefb390   \n",
       "\n",
       "                                         Data providers  \\\n",
       "0                          ['University of Queensland']   \n",
       "1     ['CSIRO National Collections and Marine Infras...   \n",
       "2     ['The Australian National University', 'CSIRO ...   \n",
       "3     ['Delaware Museum of Nature and Science – Moll...   \n",
       "4     ['Invert-E-Base Portal', 'Malacology Collectio...   \n",
       "...                                                 ...   \n",
       "5318  ['Australian Antarctic Division', 'Intergovern...   \n",
       "5319                                                 []   \n",
       "5320                                                 []   \n",
       "5321                                                 []   \n",
       "5322                                                 []   \n",
       "\n",
       "                                  Contact Organizations  Total Occurrences  \n",
       "0     ['University of Queensland', 'University of Qu...               3665  \n",
       "1     ['CSIRO Environment', 'CSIRO Environment', 'CS...              19763  \n",
       "2     ['Australian National University', 'Australian...               1960  \n",
       "3     ['Invert-E-Base Portal', 'Delaware Museum of N...              34280  \n",
       "4     ['Invert-E-Base Portal', 'Malacology Collectio...             164632  \n",
       "...                                                 ...                ...  \n",
       "5318  ['Intergovernmental Oceanographic Commission o...                556  \n",
       "5319                                                 []                  0  \n",
       "5320                                                 []                  0  \n",
       "5321                                                 []                  0  \n",
       "5322                                                 []                  0  \n",
       "\n",
       "[5323 rows x 4 columns]"
      ]
     },
     "execution_count": 12,
     "metadata": {},
     "output_type": "execute_result"
    }
   ],
   "source": [
    "df_OBISorgInfo"
   ]
  },
  {
   "cell_type": "code",
   "execution_count": 14,
   "id": "2b36f979-ebb8-4993-8b06-7c69b8b18882",
   "metadata": {},
   "outputs": [
    {
     "data": {
      "text/plain": [
       "5323"
      ]
     },
     "execution_count": 14,
     "metadata": {},
     "output_type": "execute_result"
    }
   ],
   "source": [
    "len(df_OBISorgInfo)"
   ]
  },
  {
   "cell_type": "markdown",
   "id": "20d36ea9-9dd7-47e7-bb3c-f8f1b7c8d9d4",
   "metadata": {},
   "source": [
    "Expect 5323 rows output"
   ]
  }
 ],
 "metadata": {
  "kernelspec": {
   "display_name": "Python 3 (ipykernel)",
   "language": "python",
   "name": "python3"
  },
  "language_info": {
   "codemirror_mode": {
    "name": "ipython",
    "version": 3
   },
   "file_extension": ".py",
   "mimetype": "text/x-python",
   "name": "python",
   "nbconvert_exporter": "python",
   "pygments_lexer": "ipython3",
   "version": "3.11.9"
  }
 },
 "nbformat": 4,
 "nbformat_minor": 5
}
