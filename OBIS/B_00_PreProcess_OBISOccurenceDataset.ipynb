{
 "cells": [
  {
   "cell_type": "raw",
   "id": "87247fca-fb87-4e6c-98cb-586fc8b35e75",
   "metadata": {},
   "source": [
    "First: download source file (18.3GB) e.g. using the following:\n",
    "\n",
    "wget https://obis-datasets.ams3.digitaloceanspaces.com/exports/obis_20240723.parquet"
   ]
  },
  {
   "cell_type": "code",
   "execution_count": 1,
   "id": "e6adb77e-d603-464f-8b43-a91b9698b829",
   "metadata": {},
   "outputs": [],
   "source": [
    "import pandas as pd"
   ]
  },
  {
   "cell_type": "code",
   "execution_count": 2,
   "id": "2c173fa1-a8b2-4570-978d-fb84e8d6e3d4",
   "metadata": {},
   "outputs": [],
   "source": [
    "columns_to_extract = ['dataset_id', 'decimalLongitude', 'decimalLatitude', 'date_year']\n",
    "\n",
    "output_file = 'obis_filtered.csv'"
   ]
  },
  {
   "cell_type": "code",
   "execution_count": 3,
   "id": "9a6ecc7c-a495-4be3-8d91-cced2b87c2e8",
   "metadata": {},
   "outputs": [],
   "source": [
    "df = pd.read_parquet('obis_20240723.parquet', columns=columns_to_extract)"
   ]
  },
  {
   "cell_type": "code",
   "execution_count": 5,
   "id": "3dc38c5a-ed39-4675-bf1c-3e6f0df2551b",
   "metadata": {},
   "outputs": [],
   "source": [
    "df.to_csv(output_file, index=False)"
   ]
  },
  {
   "cell_type": "code",
   "execution_count": 4,
   "id": "1a87ab04-8714-4a1b-bbc3-bbd01cf18d06",
   "metadata": {},
   "outputs": [
    {
     "data": {
      "text/html": [
       "<div>\n",
       "<style scoped>\n",
       "    .dataframe tbody tr th:only-of-type {\n",
       "        vertical-align: middle;\n",
       "    }\n",
       "\n",
       "    .dataframe tbody tr th {\n",
       "        vertical-align: top;\n",
       "    }\n",
       "\n",
       "    .dataframe thead th {\n",
       "        text-align: right;\n",
       "    }\n",
       "</style>\n",
       "<table border=\"1\" class=\"dataframe\">\n",
       "  <thead>\n",
       "    <tr style=\"text-align: right;\">\n",
       "      <th></th>\n",
       "      <th>dataset_id</th>\n",
       "      <th>decimalLongitude</th>\n",
       "      <th>decimalLatitude</th>\n",
       "      <th>date_year</th>\n",
       "    </tr>\n",
       "  </thead>\n",
       "  <tbody>\n",
       "    <tr>\n",
       "      <th>0</th>\n",
       "      <td>0c1cb7e9-c7d1-4643-b245-daa8839a183f</td>\n",
       "      <td>-3.135050</td>\n",
       "      <td>58.911831</td>\n",
       "      <td>2009.0</td>\n",
       "    </tr>\n",
       "    <tr>\n",
       "      <th>1</th>\n",
       "      <td>0c1cb7e9-c7d1-4643-b245-daa8839a183f</td>\n",
       "      <td>-6.887870</td>\n",
       "      <td>58.217499</td>\n",
       "      <td>2010.0</td>\n",
       "    </tr>\n",
       "    <tr>\n",
       "      <th>2</th>\n",
       "      <td>0c1cb7e9-c7d1-4643-b245-daa8839a183f</td>\n",
       "      <td>1.281997</td>\n",
       "      <td>58.690365</td>\n",
       "      <td>2006.0</td>\n",
       "    </tr>\n",
       "    <tr>\n",
       "      <th>3</th>\n",
       "      <td>0c1cb7e9-c7d1-4643-b245-daa8839a183f</td>\n",
       "      <td>-1.104040</td>\n",
       "      <td>60.327461</td>\n",
       "      <td>2008.0</td>\n",
       "    </tr>\n",
       "    <tr>\n",
       "      <th>4</th>\n",
       "      <td>0c1cb7e9-c7d1-4643-b245-daa8839a183f</td>\n",
       "      <td>1.744569</td>\n",
       "      <td>61.393002</td>\n",
       "      <td>2006.0</td>\n",
       "    </tr>\n",
       "    <tr>\n",
       "      <th>...</th>\n",
       "      <td>...</td>\n",
       "      <td>...</td>\n",
       "      <td>...</td>\n",
       "      <td>...</td>\n",
       "    </tr>\n",
       "    <tr>\n",
       "      <th>128621182</th>\n",
       "      <td>38535a43-2982-4479-88c1-8303f7ee8665</td>\n",
       "      <td>-72.773804</td>\n",
       "      <td>38.820202</td>\n",
       "      <td>1983.0</td>\n",
       "    </tr>\n",
       "    <tr>\n",
       "      <th>128621183</th>\n",
       "      <td>38535a43-2982-4479-88c1-8303f7ee8665</td>\n",
       "      <td>-72.773804</td>\n",
       "      <td>38.820202</td>\n",
       "      <td>1983.0</td>\n",
       "    </tr>\n",
       "    <tr>\n",
       "      <th>128621184</th>\n",
       "      <td>38535a43-2982-4479-88c1-8303f7ee8665</td>\n",
       "      <td>-72.773804</td>\n",
       "      <td>38.820202</td>\n",
       "      <td>1983.0</td>\n",
       "    </tr>\n",
       "    <tr>\n",
       "      <th>128621185</th>\n",
       "      <td>38535a43-2982-4479-88c1-8303f7ee8665</td>\n",
       "      <td>-72.773804</td>\n",
       "      <td>38.820202</td>\n",
       "      <td>1983.0</td>\n",
       "    </tr>\n",
       "    <tr>\n",
       "      <th>128621186</th>\n",
       "      <td>38535a43-2982-4479-88c1-8303f7ee8665</td>\n",
       "      <td>-72.773804</td>\n",
       "      <td>38.820202</td>\n",
       "      <td>1983.0</td>\n",
       "    </tr>\n",
       "  </tbody>\n",
       "</table>\n",
       "<p>128621187 rows × 4 columns</p>\n",
       "</div>"
      ],
      "text/plain": [
       "                                     dataset_id  decimalLongitude  \\\n",
       "0          0c1cb7e9-c7d1-4643-b245-daa8839a183f         -3.135050   \n",
       "1          0c1cb7e9-c7d1-4643-b245-daa8839a183f         -6.887870   \n",
       "2          0c1cb7e9-c7d1-4643-b245-daa8839a183f          1.281997   \n",
       "3          0c1cb7e9-c7d1-4643-b245-daa8839a183f         -1.104040   \n",
       "4          0c1cb7e9-c7d1-4643-b245-daa8839a183f          1.744569   \n",
       "...                                         ...               ...   \n",
       "128621182  38535a43-2982-4479-88c1-8303f7ee8665        -72.773804   \n",
       "128621183  38535a43-2982-4479-88c1-8303f7ee8665        -72.773804   \n",
       "128621184  38535a43-2982-4479-88c1-8303f7ee8665        -72.773804   \n",
       "128621185  38535a43-2982-4479-88c1-8303f7ee8665        -72.773804   \n",
       "128621186  38535a43-2982-4479-88c1-8303f7ee8665        -72.773804   \n",
       "\n",
       "           decimalLatitude  date_year  \n",
       "0                58.911831     2009.0  \n",
       "1                58.217499     2010.0  \n",
       "2                58.690365     2006.0  \n",
       "3                60.327461     2008.0  \n",
       "4                61.393002     2006.0  \n",
       "...                    ...        ...  \n",
       "128621182        38.820202     1983.0  \n",
       "128621183        38.820202     1983.0  \n",
       "128621184        38.820202     1983.0  \n",
       "128621185        38.820202     1983.0  \n",
       "128621186        38.820202     1983.0  \n",
       "\n",
       "[128621187 rows x 4 columns]"
      ]
     },
     "execution_count": 4,
     "metadata": {},
     "output_type": "execute_result"
    }
   ],
   "source": [
    "df"
   ]
  },
  {
   "cell_type": "raw",
   "id": "51506f80-1abe-4047-8318-1ccc4b4f232e",
   "metadata": {},
   "source": [
    "Result expected is 128621187 rows × 4 columns"
   ]
  }
 ],
 "metadata": {
  "kernelspec": {
   "display_name": "Python 3 (ipykernel)",
   "language": "python",
   "name": "python3"
  },
  "language_info": {
   "codemirror_mode": {
    "name": "ipython",
    "version": 3
   },
   "file_extension": ".py",
   "mimetype": "text/x-python",
   "name": "python",
   "nbconvert_exporter": "python",
   "pygments_lexer": "ipython3",
   "version": "3.11.9"
  }
 },
 "nbformat": 4,
 "nbformat_minor": 5
}
